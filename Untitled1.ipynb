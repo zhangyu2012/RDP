{
  "nbformat": 4,
  "nbformat_minor": 0,
  "metadata": {
    "colab": {
      "name": "Untitled1.ipynb",
      "provenance": [],
      "authorship_tag": "ABX9TyMwIIzKCQHwXHACUnaP0vdN",
      "include_colab_link": true
    },
    "kernelspec": {
      "name": "python3",
      "display_name": "Python 3"
    }
  },
  "cells": [
    {
      "cell_type": "markdown",
      "metadata": {
        "id": "view-in-github",
        "colab_type": "text"
      },
      "source": [
        "<a href=\"https://colab.research.google.com/github/zhangyu2012/RDP/blob/main/Untitled1.ipynb\" target=\"_parent\"><img src=\"https://colab.research.google.com/assets/colab-badge.svg\" alt=\"Open In Colab\"/></a>"
      ]
    },
    {
      "cell_type": "code",
      "metadata": {
        "colab": {
          "base_uri": "https://localhost:8080/"
        },
        "id": "kIVbgdCNDMZ4",
        "outputId": "aa30dfee-f8f0-4ed1-bd82-426e467b1841"
      },
      "source": [
        " ! wget https://raw.githubusercontent.com/alok676875/RDP/main/RDP.sh &> /dev/null\n",
        "! chmod +x RDP.sh  \n",
        "! ./RDP.sh"
      ],
      "execution_count": 1,
      "outputs": [
        {
          "output_type": "stream",
          "text": [
            "Installing RDP Be Patience... \n",
            "Setup Complete \n",
            "Check https://remotedesktop.google.com/headless  Copy Command Of Debian Linux And Paste Down\n",
            "Paste Here: DISPLAY= /opt/google/chrome-remote-desktop/start-host --code=\"4/0AY0e-g5pGMO8QUs0BwCS8wRS0dc031-B69Skcw83CmvDz4ULOw3A5rR666dG3D8lblxWnQ\" --redirect-url=\"https://remotedesktop.google.com/_/oauthredirect\" --name=$(hostname)\n",
            "Enter a PIN of at least six digits: \n",
            "Enter the same PIN again: \n",
            "[0111/002015.481273:ERROR:cert_verify_proc_builtin.cc(559)] No net_fetcher for performing AIA chasing.\n",
            "[0111/002015.530179:WARNING:host_config.cc(54)] Failed to read /home/ALOK/.config/chrome-remote-desktop/host#8543a5b607a077af6ace32a6a960e81c.json\n",
            "[0111/002015.907934:ERROR:cert_verify_proc_builtin.cc(559)] No net_fetcher for performing AIA chasing.\n",
            "[0111/002016.553354:INFO:daemon_controller_delegate_linux.cc(99)] 2021-01-11 00:20:16,541:INFO:User 'ALOK' is already a member of 'chrome-remote-desktop'.\n",
            "\n",
            "[0111/002018.449254:INFO:daemon_controller_delegate_linux.cc(99)] [0111/002016.673229:INFO:remoting_user_session.cc(754)] Daemon process started in the background, logging to '/tmp/chrome_remote_desktop_20210111_002016_lSiqAu'\n",
            "Using host_id: 3084a04a-c503-4b79-83bc-13cc0e5fd44c\n",
            "Launching X server and X session.\n",
            "Starting Xvfb on display :20\n",
            "X server is active.\n",
            "Launching X session: ['/bin/sh', '/etc/chrome-remote-desktop-session']\n",
            "Launching host process\n",
            "['/opt/google/chrome-remote-desktop/chrome-remote-desktop-host', '--host-config=-', '--audio-pipe-name=/home/ALOK/.config/chrome-remote-desktop/pulseaudio#8543a5b607/fifo_output', '--server-supports-exact-resize', '--ssh-auth-sockname=/tmp/chromoting.ALOK.ssh_auth_sock', '--signal-parent']\n",
            "Host ready to receive connections.\n",
            "Log file: /tmp/chrome_remote_desktop_20210111_002016_lSiqAu\n",
            "\n",
            "Check https://remotedesktop.google.com/access/ \n",
            "\n",
            "\n",
            "\n",
            "Upgrade Completed "
          ],
          "name": "stdout"
        }
      ]
    }
  ]
}